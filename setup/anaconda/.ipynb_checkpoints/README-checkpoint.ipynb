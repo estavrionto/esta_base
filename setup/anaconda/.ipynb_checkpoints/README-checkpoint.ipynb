{
 "cells": [
  {
   "cell_type": "code",
   "execution_count": 1,
   "metadata": {},
   "outputs": [
    {
     "name": "stdout",
     "output_type": "stream",
     "text": [
      "MAMBA_dir=/home/vrionto/mySSD/mamba/\n",
      "mkdir -p $MAMBA_dir\n",
      "wget -P $MAMBA_dir https://github.com/conda-forge/miniforge/releases/latest/download/Mambaforge-Linux-x86_64.sh\n",
      "bash $MAMBA_dir/Mambaforge-Linux-x86_64.sh -p $MAMBA_dir\n"
     ]
    }
   ],
   "source": [
    "# command for mamba install (bash):\n",
    "MAMBA_dir='/home/vrionto/mySSD/mamba/'\n",
    "\n",
    "cmds = [\n",
    "    f'MAMBA_dir={MAMBA_dir}',\n",
    "    f'mkdir -p $MAMBA_dir',\n",
    "    f'wget -P $MAMBA_dir https://github.com/conda-forge/miniforge/releases/latest/download/Mambaforge-Linux-x86_64.sh',\n",
    "    f'bash $MAMBA_dir/Mambaforge-Linux-x86_64.sh -p $MAMBA_dir',\n",
    "]\n",
    "\n",
    "for cmd in cmds:\n",
    "    print(cmd)\n",
    "# channels:\n",
    "#   - pypi\n",
    "#   - bioconda\n",
    "#   - conda-forge\n",
    "#   - defaults\n",
    "#   - r\n"
   ]
  },
  {
   "cell_type": "code",
   "execution_count": 2,
   "metadata": {},
   "outputs": [
    {
     "name": "stdout",
     "output_type": "stream",
     "text": [
      "/home/vrionto/mySSD/esta_base/setup/anaconda\n",
      "README.ipynb  temp  vrionto_dec\n"
     ]
    }
   ],
   "source": [
    "# conda env list\n",
    "# !conda env export --from-history -n env_jupyter > env_jupyter.yml\n",
    "# !conda env export --from-history -p /home/vrionto/anaconda3\n",
    "# !conda env export --from-history -n base\n",
    "!pwd\n",
    "!ls\n",
    "\n",
    "# conda env update -n env_jupyter -f env_jupyter.yml --prune"
   ]
  },
  {
   "cell_type": "code",
   "execution_count": 5,
   "metadata": {},
   "outputs": [
    {
     "data": {
      "text/plain": [
       "['total 28K',\n",
       " 'drwxrwxr-x 4 vrionto vrionto 4.0K Dec 15 20:07 .',\n",
       " 'drwxrwxr-x 3 vrionto vrionto 4.0K Dec 15 17:41 ..',\n",
       " 'drwxrwxr-x 2 vrionto vrionto 4.0K Dec 15 17:43 .ipynb_checkpoints',\n",
       " '-rw-rw-r-- 1 vrionto vrionto 6.6K Dec 15 20:07 README.ipynb',\n",
       " '-rw-rw-r-- 1 vrionto vrionto  347 Mar 20 17:10 temp',\n",
       " 'drwxrwxr-x 2 vrionto vrionto 4.0K Dec 15 20:02 vrionto_dec',\n",
       " '']"
      ]
     },
     "execution_count": 5,
     "metadata": {},
     "output_type": "execute_result"
    }
   ],
   "source": [
    "from typing import *\n",
    "def execute(\n",
    "    Command: str,\n",
    "    save: Optional[str]=None \n",
    ") -> List[str]:\n",
    "    \n",
    "    out_list = subprocess.check_output(Command,shell=True,universal_newlines=True).split('\\n')\n",
    "    if save!=None:\n",
    "        with open(save, 'w') as f:\n",
    "            for line in out_list:\n",
    "                f.write(f'{line}\\n')\n",
    "    return out_list\n",
    "execute('ls -lah','temp')"
   ]
  },
  {
   "cell_type": "code",
   "execution_count": 6,
   "metadata": {},
   "outputs": [
    {
     "data": {
      "text/plain": [
       "[['base', '/home/vrionto/mySSD/mamba'],\n",
       " ['env_jupyter', '/home/vrionto/mySSD/mamba/envs/env_jupyter'],\n",
       " ['env_jupyter_lab', '/home/vrionto/mySSD/mamba/envs/env_jupyter_lab']]"
      ]
     },
     "execution_count": 6,
     "metadata": {},
     "output_type": "execute_result"
    }
   ],
   "source": [
    "import subprocess\n",
    "import os\n",
    "from pathlib import Path\n",
    "# import csv\n",
    "\n",
    "def get_cur_envs():\n",
    "    current_envs = execute('conda env list')\n",
    "    current_envs = [\n",
    "        [i.split(' ')[0],i.split(' ')[-1]]\n",
    "        for i in current_envs[2:-2]]\n",
    "#     current_envs = [i for i in current_envs if 'env_' in i]\n",
    "    return current_envs\n",
    "get_cur_envs()"
   ]
  },
  {
   "cell_type": "code",
   "execution_count": 46,
   "metadata": {},
   "outputs": [],
   "source": [
    "# backup_folder = 'vrionto_dec'\n",
    "# backup_readme = '''\n",
    "#     Backup for old anaconda install\n",
    "#     Its size was too large (25 gb)\n",
    "#     mamba stopped working\n",
    "#     done on dec 15 2022\n",
    "#     '''\n",
    "\n",
    "# backup_readme\n",
    "# Path(backup_folder).mkdir(parents=True,exist_ok=True)\n",
    "# readme = Path(backup_folder,'README')\n",
    "# with open(readme,'w') as f:\n",
    "#     f.writelines(backup_readme)\n",
    "    \n",
    "\n",
    "# for env, prefix in get_cur_envs():\n",
    "#     env = Path(backup_folder,env+'.yml')\n",
    "#     cmd = f'conda env export --from-history -p {prefix}'\n",
    "#     execute(Command=cmd,save=env)\n",
    "#     print(env)\n"
   ]
  },
  {
   "cell_type": "code",
   "execution_count": 11,
   "metadata": {
    "tags": []
   },
   "outputs": [],
   "source": [
    "# # 032023\n",
    "# backup_folder = 'vrionto_mar_2023'\n",
    "# backup_readme = '''\n",
    "#     switching to jupyterlab\n",
    "#     and also updated mamba to 1.3\n",
    "#     done on Mar 20 2023\n",
    "#     '''\n",
    "\n",
    "# backup_readme\n",
    "# Path(backup_folder).mkdir(parents=True,exist_ok=True)\n",
    "# readme = Path(backup_folder,'README')\n",
    "# with open(readme,'w') as f:\n",
    "#     f.writelines(backup_readme)\n",
    "    \n",
    "\n",
    "# for env, prefix in get_cur_envs():\n",
    "#     env = Path(backup_folder,env+'.yml')\n",
    "#     cmd = f'conda env export --from-history -p {prefix}'\n",
    "#     execute(Command=cmd,save=env)\n",
    "#     print(env)\n",
    "\n",
    "# # mamba activate env_jupyter_lab\n",
    "# # mamba install r-irkernel nb_conda_kernels ipykernel numpy scipy pandas matplotlib r-shiny r-pheatmap bioconductor-pasilla bioconductor-deseq2 networkx r-bootstrap requests r-openxlsx tqdm openpyxl xlsxwriter scikit-learn bioconductor-org.hs.eg.db bioconductor-enhancedvolcano colour pybiomart\n"
   ]
  },
  {
   "cell_type": "code",
   "execution_count": 15,
   "metadata": {},
   "outputs": [
    {
     "data": {
      "text/plain": [
       "['name: env_jupyter_lab',\n",
       " 'channels:',\n",
       " '  - pypi',\n",
       " '  - bioconda',\n",
       " '  - conda-forge',\n",
       " '  - defaults',\n",
       " '  - r',\n",
       " 'dependencies:',\n",
       " '  - jupyterlab',\n",
       " '  - r-irkernel',\n",
       " '  - nb_conda_kernels',\n",
       " '  - ipykernel',\n",
       " '  - numpy',\n",
       " '  - scipy',\n",
       " '  - pandas',\n",
       " '  - matplotlib',\n",
       " '  - r-shiny',\n",
       " '  - r-pheatmap',\n",
       " '  - bioconductor-pasilla',\n",
       " '  - bioconductor-deseq2',\n",
       " '  - networkx',\n",
       " '  - r-bootstrap',\n",
       " '  - requests',\n",
       " '  - r-openxlsx',\n",
       " '  - tqdm',\n",
       " '  - openpyxl',\n",
       " '  - xlsxwriter',\n",
       " '  - scikit-learn',\n",
       " '  - bioconductor-org.hs.eg.db',\n",
       " '  - bioconductor-enhancedvolcano',\n",
       " '  - colour',\n",
       " '  - pybiomart',\n",
       " '  - ca-certificates',\n",
       " '  - certifi',\n",
       " '  - openssl',\n",
       " '  - nodejs',\n",
       " 'prefix: /home/vrionto/mySSD/mamba/envs/env_jupyter_lab',\n",
       " '']"
      ]
     },
     "execution_count": 15,
     "metadata": {},
     "output_type": "execute_result"
    }
   ],
   "source": [
    "prefix = '/home/vrionto/mySSD/mamba/envs/env_jupyter_lab'\n",
    "cmd = f'conda env export --from-history -p {prefix}'\n",
    "execute(Command=cmd)"
   ]
  }
 ],
 "metadata": {
  "kernelspec": {
   "display_name": "Python 3 (ipykernel)",
   "language": "python",
   "name": "python3"
  },
  "language_info": {
   "codemirror_mode": {
    "name": "ipython",
    "version": 3
   },
   "file_extension": ".py",
   "mimetype": "text/x-python",
   "name": "python",
   "nbconvert_exporter": "python",
   "pygments_lexer": "ipython3",
   "version": "3.11.0"
  }
 },
 "nbformat": 4,
 "nbformat_minor": 4
}
